{
 "cells": [
  {
   "cell_type": "code",
   "execution_count": 1,
   "metadata": {
    "collapsed": true
   },
   "outputs": [
    {
     "name": "stdout",
     "output_type": "stream",
     "text": [
      "Initializing Julia interpreter. This may take some time...\n"
     ]
    }
   ],
   "source": [
    "import resources.Get_Data as Get_Data\n",
    "from resources.single_data.RF_AR import RF_AR\n",
    "import matplotlib.pyplot as plt\n",
    "import pandas as pd\n",
    "import julia\n",
    "%load_ext julia.magic"
   ]
  },
  {
   "cell_type": "code",
   "execution_count": 2,
   "outputs": [],
   "source": [
    "getter = Get_Data.Get_Data(\"^IXIC\", \"2022-02-15\", \"1h\")#.make_norm_diff()\n",
    "#print(getter)\n",
    "#szereg = Get_Data.Get_Data(\"^IXIC\", start=\"2021-09-20\", end='2022-02-20', interval=\"1d\").make_diff()\n",
    "szereg = pd.read_csv(\"sim.csv\")['x'][:100]\n",
    "#print(szereg)\n",
    "#getter.analiza_statystyczna_szeregu(szereg_pandas=szereg)\n",
    "\n",
    "cart_ar = RF_AR(data=szereg, params={\"lags\": 2}, test_ratio=0.9)"
   ],
   "metadata": {
    "collapsed": false,
    "pycharm": {
     "name": "#%%\n"
    }
   }
  },
  {
   "cell_type": "code",
   "execution_count": 3,
   "outputs": [],
   "source": [
    "#\n",
    "#using Pkg\n",
    "#Pkg.add(\"JLD2\")\n",
    "#Pkg.add(\"BetaML\")\n",
    "#\n",
    "#using BetaML.Trees\n",
    "#using JLD2\n",
    "#x = rand(Float32, 100, 10) # 100 training samples, 10 predictors\n",
    "#y = x[:,2] + x[:,4]\n",
    "#print(typeof(y))\n",
    "#myForest = buildForest(x,y,100)\n",
    "#yhat = Trees.predict(myForest, x)\n",
    "#print(yhat)"
   ],
   "metadata": {
    "collapsed": false,
    "pycharm": {
     "name": "#%%julia\n"
    }
   }
  },
  {
   "cell_type": "code",
   "execution_count": 4,
   "outputs": [],
   "source": [
    "#using Pkg\n",
    "#Pkg.add(\"JLD2\")\n",
    "#Pkg.add(\"DecisionTree\")\n",
    "#\n",
    "#using DecisionTree\n",
    "#Pkg.build(\"DecisionTree\")\n",
    "#Pkg.activate(\"DecisionTree\")\n",
    "#using JLD2"
   ],
   "metadata": {
    "collapsed": false,
    "pycharm": {
     "name": "#%%julia\n"
    }
   }
  },
  {
   "cell_type": "code",
   "execution_count": 5,
   "outputs": [],
   "source": [
    "#cart_ar = RF_AR(data=szereg, params={\"lags\": 1}, test_ratio=0.9)\n",
    "#opt = cart_ar.cross_validation_rolling_window(dlugosc_okna=1/5, params={\"max_depth\":3,\n",
    "#                                                          \"max_n_estimators\":3,\n",
    "#                                                          \"min_sample_split\":3,\n",
    "#                                                          \"min_samples_leaf\":3})\n",
    "\n",
    "#cart_ar.fit(params_fit={\"max_depth\": opt})"
   ],
   "metadata": {
    "collapsed": false,
    "pycharm": {
     "name": "#%%\n"
    }
   }
  },
  {
   "cell_type": "code",
   "execution_count": 6,
   "outputs": [
    {
     "data": {
      "text/plain": "{'A': 2}"
     },
     "execution_count": 6,
     "metadata": {},
     "output_type": "execute_result"
    }
   ],
   "source": [
    "%%julia\n",
    "Dict(\"A\"=>2)"
   ],
   "metadata": {
    "collapsed": false,
    "pycharm": {
     "name": "#%%\n"
    }
   }
  },
  {
   "cell_type": "code",
   "execution_count": 6,
   "outputs": [],
   "source": [],
   "metadata": {
    "collapsed": false,
    "pycharm": {
     "name": "#%%\n"
    }
   }
  },
  {
   "cell_type": "code",
   "execution_count": 7,
   "outputs": [],
   "source": [
    "#using PyCall\n",
    "#dlugosc_okna = 1/2\n",
    "#X = py\"cart_ar.X.values\"\n",
    "#data = py\"cart_ar.data.values\"\n",
    "#prog = convert(Int64, round(dlugosc_okna * length(X)))\n",
    "#\n",
    "#X = reshape(X, size(X))\n",
    "#data = reshape(data, size(data))\n",
    "#X = reshape(X, size(X))\n",
    "#\n",
    "#println(typeof(X))\n",
    "#println(typeof(data))\n",
    "#println(typeof(prog))\n",
    "#println(typeof(dlugosc_okna))\n",
    "#println(typeof(Dict(\"dlugosc_okna\"=> dlugosc_okna,\n",
    "#                     \"prog\"=> prog,\n",
    "#                     \"data\"=> data,\n",
    "#                     \"X\"=> X,\n",
    "#                     \"params\"=> Dict(\n",
    "#                                    \"max_depth\"=> 3,\n",
    "#                                    \"max_n_estimators\"=> 3,\n",
    "#                                    \"min_sample_split\"=> 3,\n",
    "#                                    \"min_samples_leaf\"=> 3))))\n",
    "#println(\"--------------------------------------------------------------\")\n",
    "#include(\"resources/fast_jl/rf_cross_val.jl\")\n",
    "#\n",
    "#\n",
    "#rf_cross_val(Dict(\"dlugosc_okna\"=> dlugosc_okna,\n",
    "#                     \"prog\"=> prog,\n",
    "#                     \"data\"=> data,\n",
    "#                     \"X\"=> X,\n",
    "#                     \"params\"=> Dict(\n",
    "#                                    \"max_depth\"=> 3,\n",
    "#                                    \"max_n_estimators\"=> 3,\n",
    "#                                    \"min_sample_split\"=> 3,\n",
    "#                                    \"min_samples_leaf\"=> 3)))"
   ],
   "metadata": {
    "collapsed": false,
    "pycharm": {
     "name": "#%%julia\n"
    }
   }
  },
  {
   "cell_type": "code",
   "execution_count": 8,
   "outputs": [
    {
     "name": "stdout",
     "output_type": "stream",
     "text": [
      "           1         2\n",
      "2  -0.854588 -1.272979\n",
      "3  -0.687387 -0.854588\n",
      "4  -0.305483 -0.687387\n",
      "5  -0.435129 -0.305483\n",
      "6  -0.746711 -0.435129\n",
      "..       ...       ...\n",
      "85 -0.603918  0.508236\n",
      "86 -1.075125 -0.603918\n",
      "87 -0.677187 -1.075125\n",
      "88 -0.158617 -0.677187\n",
      "89 -0.058055 -0.158617\n",
      "\n",
      "[88 rows x 2 columns]\n"
     ]
    }
   ],
   "source": [
    "print(cart_ar.X)"
   ],
   "metadata": {
    "collapsed": false,
    "pycharm": {
     "name": "#%%\n"
    }
   }
  },
  {
   "cell_type": "code",
   "execution_count": 9,
   "outputs": [
    {
     "name": "stderr",
     "output_type": "stream",
     "text": [
      "    Updating registry at `C:\\Users\\micuk\\.julia\\registries\\General.toml`\n",
      "   Resolving package versions...\n",
      "  No Changes to `C:\\Users\\micuk\\.julia\\environments\\v1.7\\Project.toml`\n",
      "  No Changes to `C:\\Users\\micuk\\.julia\\environments\\v1.7\\Manifest.toml`\n"
     ]
    }
   ],
   "source": [
    "from julia import Pkg\n",
    "from julia import Main\n",
    "\n",
    "Pkg.add(\"DecisionTree\")\n",
    "Main.using(\"DecisionTree\")\n",
    "#\n",
    "#opt = cart_ar.cross_validation_rolling_window_julia(1/3, {\n",
    "#    \"max_depth\": 3,\n",
    "#    \"min_samples_split\": 5,\n",
    "#    \"min_samples_leaf\": 5\n",
    "#})"
   ],
   "metadata": {
    "collapsed": false,
    "pycharm": {
     "name": "#%%\n"
    }
   }
  },
  {
   "cell_type": "code",
   "execution_count": 10,
   "outputs": [
    {
     "name": "stderr",
     "output_type": "stream",
     "text": [
      "[ Info: Julia version info\n",
      "[ Info: Julia executable: C:\\Users\\micuk\\AppData\\Local\\Programs\\Julia-1.7.2\\bin\\julia.exe\n",
      "[ Info: Trying to import PyCall...\n",
      "┌ Info: PyCall is already installed and compatible with Python executable.\n",
      "│ \n",
      "│ PyCall:\n",
      "│     python: c:\\users\\micuk\\pycharmprojects\\vecm\\scripts\\python.exe\n",
      "│     libpython: C:\\Users\\micuk\\AppData\\Local\\Programs\\Python\\Python39\\python39.dll\n",
      "│ Python:\n",
      "│     python: c:\\users\\micuk\\pycharmprojects\\finalna_praca_licencjacka\\scripts\\python.exe\n",
      "└     libpython: C:\\Users\\micuk\\AppData\\Local\\Programs\\Python\\Python39\\python39.dll\n"
     ]
    },
    {
     "name": "stdout",
     "output_type": "stream",
     "text": [
      "Julia Version 1.7.2\n",
      "Commit bf53498635 (2022-02-06 15:21 UTC)\n",
      "Platform Info:\n",
      "  OS: Windows (x86_64-w64-mingw32)\n",
      "      Microsoft Windows [Version 10.0.19044.1586]\n",
      "  CPU: Intel(R) Core(TM) i7-7700K CPU @ 4.20GHz: \n",
      "              speed         user         nice          sys         idle          irq\n",
      "       #1  4200 MHz   34872625            0     16740234    259496546      3221468  ticks\n",
      "       #2  4200 MHz   28630359            0      6816671    275662375       179390  ticks\n",
      "       #3  4200 MHz   44368390            0     10486406    256254609       208640  ticks\n",
      "       #4  4200 MHz   34767125            0      6232281    270110000       127000  ticks\n",
      "       #5  4200 MHz   48114078            0     10043390    252951796       197296  ticks\n",
      "       #6  4200 MHz   44294046            0      7503546    259311671       170359  ticks\n",
      "       #7  4200 MHz   49752015            0      9417390    251939859       195703  ticks\n",
      "       #8  4200 MHz   47084984            0      7834328    256189953       123656  ticks\n",
      "       \n",
      "  Memory: 15.958984375 GB (5291.83984375 MB free)\n",
      "  Uptime: 444697.0 sec\n",
      "  Load Avg:  0.0  0.0  0.0\n",
      "  WORD_SIZE: 64\n",
      "  LIBM: libopenlibm\n",
      "  LLVM: libLLVM-12.0.1 (ORCJIT, skylake)\n",
      "Environment:\n",
      "  CHOCOLATEYLASTPATHUPDATE = 132886613223205399\n",
      "  HOMEDRIVE = C:\n",
      "  HOMEPATH = \\Users\\micuk\n",
      "  JAVA_HOME = C:\\devsetup\\jdk-17.0.2\n",
      "  M2_HOME = C:\\Maven\n",
      "  MAVEN_HOME = C:\\Maven\n",
      "  PATH = C:\\Users\\micuk\\PycharmProjects\\finalna_praca_licencjacka\\Scripts;C:\\Python310\\Scripts\\;C:\\Python310\\;C:\\Windows\\system32;C:\\Windows;C:\\Windows\\System32\\Wbem;C:\\Windows\\System32\\WindowsPowerShell\\v1.0\\;C:\\Windows\\System32\\OpenSSH\\;C:\\Program Files\\NVIDIA Corporation\\NVIDIA NvDLISR;C:\\Program Files (x86)\\NVIDIA Corporation\\PhysX\\Common;C:\\Program Files\\Git\\cmd;C:\\Program Files\\nodejs\\;C:\\ProgramData\\chocolatey\\bin;C:\\Program Files\\dotnet\\;C:\\Program Files\\MySQL\\MySQL Shell 8.0\\bin\\;C:\\Users\\micuk\\AppData\\Local\\Microsoft\\WindowsApps;C:\\Program Files\\JetBrains\\PyCharm 2021.3.1\\bin;C:\\devsetup\\jdk-17.0.2;;C:\\Users\\micuk\\AppData\\Local\\Programs\\Microsoft VS Code\\bin;C:\\Program Files\\JetBrains\\IntelliJ IDEA Community Edition 2021.3.2\\bin;;C:\\Program Files\\JetBrains\\IntelliJ IDEA 2021.3.2\\bin;;C:\\Maven\\bin;C:\\Users\\micuk\\AppData\\Roaming\\npm;C:\\Users\\micuk\\AppData\\Local\\GitHubDesktop\\bin;C:\\Users\\micuk\\AppData\\Local\\Programs\\Julia-1.7.2\\bin\n",
      "  PATHEXT = .COM;.EXE;.BAT;.CMD;.VBS;.VBE;.JS;.JSE;.WSF;.WSH;.MSC;.PY;.PYW\n",
      "  PSMODULEPATH = C:\\Program Files\\WindowsPowerShell\\Modules;C:\\Windows\\system32\\WindowsPowerShell\\v1.0\\Modules\n",
      "  PYTHONPATH = C:\\Users\\micuk\\PycharmProjects\\finalna_praca_licencjacka;C:\\Users\\micuk\\PycharmProjects\\finalna_praca_licencjacka\\resources\n",
      "  TERM = xterm-color\n",
      "  _OLD_VIRTUAL_PATH = C:\\Python310\\Scripts\\;C:\\Python310\\;C:\\Windows\\system32;C:\\Windows;C:\\Windows\\System32\\Wbem;C:\\Windows\\System32\\WindowsPowerShell\\v1.0\\;C:\\Windows\\System32\\OpenSSH\\;C:\\Program Files\\NVIDIA Corporation\\NVIDIA NvDLISR;C:\\Program Files (x86)\\NVIDIA Corporation\\PhysX\\Common;C:\\Program Files\\Git\\cmd;C:\\Program Files\\nodejs\\;C:\\ProgramData\\chocolatey\\bin;C:\\Program Files\\dotnet\\;C:\\Program Files\\MySQL\\MySQL Shell 8.0\\bin\\;C:\\Users\\micuk\\AppData\\Local\\Microsoft\\WindowsApps;C:\\Program Files\\JetBrains\\PyCharm 2021.3.1\\bin;C:\\devsetup\\jdk-17.0.2;;C:\\Users\\micuk\\AppData\\Local\\Programs\\Microsoft VS Code\\bin;C:\\Program Files\\JetBrains\\IntelliJ IDEA Community Edition 2021.3.2\\bin;;C:\\Program Files\\JetBrains\\IntelliJ IDEA 2021.3.2\\bin;;C:\\Maven\\bin;C:\\Users\\micuk\\AppData\\Roaming\\npm;C:\\Users\\micuk\\AppData\\Local\\GitHubDesktop\\bin;C:\\Users\\micuk\\AppData\\Local\\Programs\\Julia-1.7.2\\bin\n",
      "2, 1, 2, 2\n",
      "2, 1, 2, 3\n",
      "2, 1, 3, 2\n",
      "2, 1, 3, 3\n",
      "2, 2, 2, 2\n",
      "2, 2, 2, 3\n",
      "2, 2, 3, 2\n",
      "2, 2, 3, 3\n",
      "2, 3, 2, 2\n",
      "2, 3, 2, 3\n",
      "2, 3, 3, 2\n",
      "2, 3, 3, 3\n"
     ]
    }
   ],
   "source": [
    "opt = cart_ar.cross_validation_rolling_window_julia(1/2, {\n",
    "    \"max_depth\": 2,\n",
    "    \"max_n_estimators\": 3,\n",
    "    \"min_samples_split\": 3,\n",
    "    \"min_samples_leaf\": 3\n",
    "})"
   ],
   "metadata": {
    "collapsed": false,
    "pycharm": {
     "name": "#%%\n"
    }
   }
  },
  {
   "cell_type": "code",
   "execution_count": 11,
   "outputs": [
    {
     "name": "stdout",
     "output_type": "stream",
     "text": [
      "{'max_depth': 2.0, 'max_n_estimators': 2, 'min_samples_split': 2, 'min_samples_leaf': 3}\n",
      "fit\n"
     ]
    }
   ],
   "source": [
    "cart_ar.fit(params_fit={\"max_depth\":opt[\"depth\"],\n",
    "                       \"max_n_estimators\":int(opt[\"max_n_estimators\"]),\n",
    "                       \"min_samples_split\":int(opt[\"min_samples_split\"]),\n",
    "                       \"min_samples_leaf\":int(opt[\"min_samples_leaf\"])})"
   ],
   "metadata": {
    "collapsed": false,
    "pycharm": {
     "name": "#%%\n"
    }
   }
  },
  {
   "cell_type": "code",
   "execution_count": 12,
   "outputs": [
    {
     "name": "stdout",
     "output_type": "stream",
     "text": [
      "forecast_raw\n",
      "forecast_raw\n",
      "forecast_raw\n",
      "SUMA:  6  /  10\n"
     ]
    },
    {
     "data": {
      "text/plain": "<Figure size 432x288 with 1 Axes>",
      "image/png": "[encoded data removed]"
     },
     "metadata": {
      "needs_background": "light"
     },
     "output_type": "display_data"
    }
   ],
   "source": [
    "plt.plot(cart_ar.forecast_raw(), c='r')\n",
    "plt.plot(cart_ar.data_test.values)\n",
    "plt.grid()\n",
    "\n",
    "print(\"SUMA: \",sum(cart_ar.data_test.values * cart_ar.forecast_raw() > 0), \" / \", len(cart_ar.forecast_raw()))"
   ],
   "metadata": {
    "collapsed": false,
    "pycharm": {
     "name": "#%%\n"
    }
   }
  }
 ],
 "metadata": {
  "kernelspec": {
   "display_name": "Python 3",
   "language": "python",
   "name": "python3"
  },
  "language_info": {
   "codemirror_mode": {
    "name": "ipython",
    "version": 2
   },
   "file_extension": ".py",
   "mimetype": "text/x-python",
   "name": "python",
   "nbconvert_exporter": "python",
   "pygments_lexer": "ipython2",
   "version": "2.7.6"
  }
 },
 "nbformat": 4,
 "nbformat_minor": 0
}