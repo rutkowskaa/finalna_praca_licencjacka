{
 "cells": [
  {
   "cell_type": "code",
   "execution_count": 1,
   "metadata": {
    "collapsed": true
   },
   "outputs": [
    {
     "name": "stdout",
     "output_type": "stream",
     "text": [
      "Initializing Julia interpreter. This may take some time...\n"
     ]
    }
   ],
   "source": [
    "import resources.Get_Data as Get_Data\n",
    "from resources.single_data.CART_AR import CART_AR\n",
    "import matplotlib.pyplot as plt\n",
    "import pandas as pd\n",
    "import julia\n",
    "%load_ext julia.magic"
   ]
  },
  {
   "cell_type": "code",
   "execution_count": 2,
   "outputs": [],
   "source": [
    "getter = Get_Data.Get_Data(\"^IXIC\", \"2022-02-15\", \"1h\")#.make_norm_diff()\n",
    "#print(getter)\n",
    "#szereg = Get_Data.Get_Data(\"^IXIC\", start=\"2021-09-20\", end='2022-02-20', interval=\"1d\").make_diff()\n",
    "szereg = pd.read_csv(\"sim.csv\")['x'][:100]\n",
    "#print(szereg)\n",
    "#getter.analiza_statystyczna_szeregu(szereg_pandas=szereg)\n",
    "\n",
    "cart_ar = CART_AR(data=szereg, params={\"lags\": 2}, test_ratio=0.9)"
   ],
   "metadata": {
    "collapsed": false,
    "pycharm": {
     "name": "#%%\n"
    }
   }
  },
  {
   "cell_type": "code",
   "execution_count": 3,
   "outputs": [],
   "source": [
    "#\n",
    "#using Pkg\n",
    "#Pkg.add(\"JLD2\")\n",
    "#Pkg.add(\"BetaML\")\n",
    "#\n",
    "#using BetaML.Trees\n",
    "#using JLD2\n",
    "#x = rand(Float32, 100, 10) # 100 training samples, 10 predictors\n",
    "#y = x[:,2] + x[:,4]\n",
    "#print(typeof(y))\n",
    "#myForest = buildForest(x,y,100)\n",
    "#yhat = Trees.predict(myForest, x)\n",
    "#print(yhat)"
   ],
   "metadata": {
    "collapsed": false,
    "pycharm": {
     "name": "#%%julia\n"
    }
   }
  },
  {
   "cell_type": "code",
   "execution_count": 4,
   "outputs": [],
   "source": [
    "#using Pkg\n",
    "#Pkg.add(\"JLD2\")\n",
    "#Pkg.add(\"DecisionTree\")\n",
    "#\n",
    "#using DecisionTree\n",
    "#Pkg.build(\"DecisionTree\")\n",
    "#Pkg.activate(\"DecisionTree\")\n",
    "#using JLD2"
   ],
   "metadata": {
    "collapsed": false,
    "pycharm": {
     "name": "#%%julia\n"
    }
   }
  },
  {
   "cell_type": "code",
   "execution_count": 5,
   "outputs": [],
   "source": [
    "#cart_ar = RF_AR(data=szereg, params={\"lags\": 1}, test_ratio=0.9)\n",
    "#opt = cart_ar.cross_validation_rolling_window(dlugosc_okna=1/5, params={\"max_depth\":3,\n",
    "#                                                          \"max_n_estimators\":3,\n",
    "#                                                          \"min_sample_split\":3,\n",
    "#                                                          \"min_samples_leaf\":3})\n",
    "\n",
    "#cart_ar.fit(params_fit={\"max_depth\": opt})"
   ],
   "metadata": {
    "collapsed": false,
    "pycharm": {
     "name": "#%%\n"
    }
   }
  },
  {
   "cell_type": "code",
   "execution_count": 6,
   "outputs": [
    {
     "data": {
      "text/plain": "{'A': 2}"
     },
     "execution_count": 6,
     "metadata": {},
     "output_type": "execute_result"
    }
   ],
   "source": [
    "%%julia\n",
    "Dict(\"A\"=>2)"
   ],
   "metadata": {
    "collapsed": false,
    "pycharm": {
     "name": "#%%\n"
    }
   }
  },
  {
   "cell_type": "code",
   "execution_count": 6,
   "outputs": [],
   "source": [],
   "metadata": {
    "collapsed": false,
    "pycharm": {
     "name": "#%%\n"
    }
   }
  },
  {
   "cell_type": "code",
   "execution_count": 7,
   "outputs": [],
   "source": [
    "#using PyCall\n",
    "#dlugosc_okna = 1/2\n",
    "#X = py\"cart_ar.X.values\"\n",
    "#data = py\"cart_ar.data.values\"\n",
    "#prog = convert(Int64, round(dlugosc_okna * length(X)))\n",
    "#\n",
    "#X = reshape(X, size(X))\n",
    "#data = reshape(data, size(data))\n",
    "#X = reshape(X, size(X))\n",
    "#\n",
    "#println(typeof(X))\n",
    "#println(typeof(data))\n",
    "#println(typeof(prog))\n",
    "#println(typeof(dlugosc_okna))\n",
    "#println(typeof(Dict(\"dlugosc_okna\"=> dlugosc_okna,\n",
    "#                     \"prog\"=> prog,\n",
    "#                     \"data\"=> data,\n",
    "#                     \"X\"=> X,\n",
    "#                     \"params\"=> Dict(\n",
    "#                                    \"max_depth\"=> 3,\n",
    "#                                    \"max_n_estimators\"=> 3,\n",
    "#                                    \"min_sample_split\"=> 3,\n",
    "#                                    \"min_samples_leaf\"=> 3))))\n",
    "#println(\"--------------------------------------------------------------\")\n",
    "#include(\"resources/fast_jl/rf_cross_val.jl\")\n",
    "#\n",
    "#\n",
    "#rf_cross_val(Dict(\"dlugosc_okna\"=> dlugosc_okna,\n",
    "#                     \"prog\"=> prog,\n",
    "#                     \"data\"=> data,\n",
    "#                     \"X\"=> X,\n",
    "#                     \"params\"=> Dict(\n",
    "#                                    \"max_depth\"=> 3,\n",
    "#                                    \"max_n_estimators\"=> 3,\n",
    "#                                    \"min_sample_split\"=> 3,\n",
    "#                                    \"min_samples_leaf\"=> 3)))"
   ],
   "metadata": {
    "collapsed": false,
    "pycharm": {
     "name": "#%%julia\n"
    }
   }
  },
  {
   "cell_type": "code",
   "execution_count": 8,
   "outputs": [
    {
     "name": "stdout",
     "output_type": "stream",
     "text": [
      "           1         2\n",
      "2  -0.854588 -1.272979\n",
      "3  -0.687387 -0.854588\n",
      "4  -0.305483 -0.687387\n",
      "5  -0.435129 -0.305483\n",
      "6  -0.746711 -0.435129\n",
      "..       ...       ...\n",
      "85 -0.603918  0.508236\n",
      "86 -1.075125 -0.603918\n",
      "87 -0.677187 -1.075125\n",
      "88 -0.158617 -0.677187\n",
      "89 -0.058055 -0.158617\n",
      "\n",
      "[88 rows x 2 columns]\n"
     ]
    }
   ],
   "source": [
    "print(cart_ar.X)"
   ],
   "metadata": {
    "collapsed": false,
    "pycharm": {
     "name": "#%%\n"
    }
   }
  },
  {
   "cell_type": "code",
   "execution_count": 9,
   "outputs": [],
   "source": [
    "#from julia import Pkg\n",
    "#from julia import Main\n",
    "#\n",
    "#Pkg.add(\"DecisionTree\")\n",
    "#Main.using(\"DecisionTree\")\n",
    "#\n",
    "#opt = cart_ar.cross_validation_rolling_window_julia(1/3, {\n",
    "#    \"max_depth\": 3,\n",
    "#    \"min_samples_split\": 5,\n",
    "#    \"min_samples_leaf\": 5\n",
    "#})"
   ],
   "metadata": {
    "collapsed": false,
    "pycharm": {
     "name": "#%%\n"
    }
   }
  },
  {
   "cell_type": "code",
   "execution_count": 10,
   "outputs": [],
   "source": [
    "#opt = cart_ar.cross_validation_rolling_window_julia(1/2, {\n",
    "#    \"max_depth\": 2,\n",
    "#    \"max_n_estimators\": 20,\n",
    "#    \"min_sample_split\": 20,\n",
    "#    \"min_samples_leaf\": 20\n",
    "#})"
   ],
   "metadata": {
    "collapsed": false,
    "pycharm": {
     "name": "#%%\n"
    }
   }
  },
  {
   "cell_type": "code",
   "execution_count": 11,
   "outputs": [
    {
     "ename": "NameError",
     "evalue": "name 'opt' is not defined",
     "output_type": "error",
     "traceback": [
      "\u001B[1;31m---------------------------------------------------------------------------\u001B[0m",
      "\u001B[1;31mNameError\u001B[0m                                 Traceback (most recent call last)",
      "Input \u001B[1;32mIn [11]\u001B[0m, in \u001B[0;36m<cell line: 1>\u001B[1;34m()\u001B[0m\n\u001B[1;32m----> 1\u001B[0m cart_ar\u001B[38;5;241m.\u001B[39mfit(params_fit\u001B[38;5;241m=\u001B[39m{\u001B[38;5;124m\"\u001B[39m\u001B[38;5;124mmax_depth\u001B[39m\u001B[38;5;124m\"\u001B[39m:\u001B[43mopt\u001B[49m[\u001B[38;5;124m\"\u001B[39m\u001B[38;5;124mdepth\u001B[39m\u001B[38;5;124m\"\u001B[39m],\n\u001B[0;32m      2\u001B[0m                        \u001B[38;5;124m\"\u001B[39m\u001B[38;5;124mmin_samples_split\u001B[39m\u001B[38;5;124m\"\u001B[39m:\u001B[38;5;28mint\u001B[39m(opt[\u001B[38;5;124m\"\u001B[39m\u001B[38;5;124mmin_samples_split\u001B[39m\u001B[38;5;124m\"\u001B[39m]),\n\u001B[0;32m      3\u001B[0m                        \u001B[38;5;124m\"\u001B[39m\u001B[38;5;124mmin_samples_leaf\u001B[39m\u001B[38;5;124m\"\u001B[39m:\u001B[38;5;28mint\u001B[39m(opt[\u001B[38;5;124m\"\u001B[39m\u001B[38;5;124mmin_samples_leaf\u001B[39m\u001B[38;5;124m\"\u001B[39m])})\n",
      "\u001B[1;31mNameError\u001B[0m: name 'opt' is not defined"
     ]
    }
   ],
   "source": [
    "cart_ar.fit(params_fit={\"max_depth\":opt[\"depth\"],\n",
    "                       \"min_samples_split\":int(opt[\"min_samples_split\"]),\n",
    "                       \"min_samples_leaf\":int(opt[\"min_samples_leaf\"])})"
   ],
   "metadata": {
    "collapsed": false,
    "pycharm": {
     "name": "#%%\n"
    }
   }
  },
  {
   "cell_type": "code",
   "execution_count": null,
   "outputs": [],
   "source": [
    "plt.plot(cart_ar.forecast_raw(), c='r')\n",
    "plt.plot(cart_ar.data_test.values)\n",
    "plt.grid()\n",
    "\n",
    "print(\"SUMA: \",sum(cart_ar.data_test.values * cart_ar.forecast_raw() > 0), \" / \", len(cart_ar.forecast_raw()))"
   ],
   "metadata": {
    "collapsed": false,
    "pycharm": {
     "name": "#%%\n"
    }
   }
  }
 ],
 "metadata": {
  "kernelspec": {
   "display_name": "Python 3",
   "language": "python",
   "name": "python3"
  },
  "language_info": {
   "codemirror_mode": {
    "name": "ipython",
    "version": 2
   },
   "file_extension": ".py",
   "mimetype": "text/x-python",
   "name": "python",
   "nbconvert_exporter": "python",
   "pygments_lexer": "ipython2",
   "version": "2.7.6"
  }
 },
 "nbformat": 4,
 "nbformat_minor": 0
}