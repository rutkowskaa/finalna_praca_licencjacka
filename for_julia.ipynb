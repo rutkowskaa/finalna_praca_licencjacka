{
 "cells": [
  {
   "cell_type": "code",
   "execution_count": 1,
   "metadata": {
    "collapsed": true
   },
   "outputs": [
    {
     "name": "stdout",
     "output_type": "stream",
     "text": [
      "Initializing Julia interpreter. This may take some time...\n"
     ]
    }
   ],
   "source": [
    "import resources.Get_Data as Get_Data\n",
    "from resources.single_data.RF_AR import RF_AR\n",
    "import matplotlib.pyplot as plt\n",
    "import pandas as pd\n",
    "import julia\n",
    "%load_ext julia.magic"
   ]
  },
  {
   "cell_type": "code",
   "execution_count": 2,
   "outputs": [],
   "source": [
    "getter = Get_Data.Get_Data(\"^IXIC\", \"2022-02-15\", \"1h\")#.make_norm_diff()\n",
    "#print(getter)\n",
    "#szereg = Get_Data.Get_Data(\"^IXIC\", start=\"2021-09-20\", end='2022-02-20', interval=\"1d\").make_diff()\n",
    "szereg = pd.read_csv(\"sim.csv\")['x'][:100]\n",
    "#print(szereg)\n",
    "#getter.analiza_statystyczna_szeregu(szereg_pandas=szereg)\n",
    "\n",
    "cart_ar = RF_AR(data=szereg, params={\"lags\": 2}, test_ratio=0.9)"
   ],
   "metadata": {
    "collapsed": false,
    "pycharm": {
     "name": "#%%\n"
    }
   }
  },
  {
   "cell_type": "code",
   "execution_count": 3,
   "outputs": [],
   "source": [
    "#\n",
    "#using Pkg\n",
    "#Pkg.add(\"JLD2\")\n",
    "#Pkg.add(\"BetaML\")\n",
    "#\n",
    "#using BetaML.Trees\n",
    "#using JLD2\n",
    "#x = rand(Float32, 100, 10) # 100 training samples, 10 predictors\n",
    "#y = x[:,2] + x[:,4]\n",
    "#print(typeof(y))\n",
    "#myForest = buildForest(x,y,100)\n",
    "#yhat = Trees.predict(myForest, x)\n",
    "#print(yhat)"
   ],
   "metadata": {
    "collapsed": false,
    "pycharm": {
     "name": "#%%julia\n"
    }
   }
  },
  {
   "cell_type": "code",
   "execution_count": 4,
   "outputs": [],
   "source": [
    "#using Pkg\n",
    "#Pkg.add(\"JLD2\")\n",
    "#Pkg.add(\"DecisionTree\")\n",
    "#\n",
    "#using DecisionTree\n",
    "#Pkg.build(\"DecisionTree\")\n",
    "#Pkg.activate(\"DecisionTree\")\n",
    "#using JLD2"
   ],
   "metadata": {
    "collapsed": false,
    "pycharm": {
     "name": "#%%julia\n"
    }
   }
  },
  {
   "cell_type": "code",
   "execution_count": 5,
   "outputs": [],
   "source": [
    "#cart_ar = RF_AR(data=szereg, params={\"lags\": 1}, test_ratio=0.9)\n",
    "#opt = cart_ar.cross_validation_rolling_window(dlugosc_okna=1/5, params={\"max_depth\":3,\n",
    "#                                                          \"max_n_estimators\":3,\n",
    "#                                                          \"min_sample_split\":3,\n",
    "#                                                          \"min_samples_leaf\":3})\n",
    "\n",
    "#cart_ar.fit(params_fit={\"max_depth\": opt})"
   ],
   "metadata": {
    "collapsed": false,
    "pycharm": {
     "name": "#%%\n"
    }
   }
  },
  {
   "cell_type": "code",
   "execution_count": 6,
   "outputs": [
    {
     "data": {
      "text/plain": "{'A': 2}"
     },
     "execution_count": 6,
     "metadata": {},
     "output_type": "execute_result"
    }
   ],
   "source": [
    "%%julia\n",
    "Dict(\"A\"=>2)"
   ],
   "metadata": {
    "collapsed": false,
    "pycharm": {
     "name": "#%%\n"
    }
   }
  },
  {
   "cell_type": "code",
   "execution_count": 6,
   "outputs": [],
   "source": [],
   "metadata": {
    "collapsed": false,
    "pycharm": {
     "name": "#%%\n"
    }
   }
  },
  {
   "cell_type": "code",
   "execution_count": 7,
   "outputs": [],
   "source": [
    "#using PyCall\n",
    "#dlugosc_okna = 1/2\n",
    "#X = py\"cart_ar.X.values\"\n",
    "#data = py\"cart_ar.data.values\"\n",
    "#prog = convert(Int64, round(dlugosc_okna * length(X)))\n",
    "#\n",
    "#X = reshape(X, size(X))\n",
    "#data = reshape(data, size(data))\n",
    "#X = reshape(X, size(X))\n",
    "#\n",
    "#println(typeof(X))\n",
    "#println(typeof(data))\n",
    "#println(typeof(prog))\n",
    "#println(typeof(dlugosc_okna))\n",
    "#println(typeof(Dict(\"dlugosc_okna\"=> dlugosc_okna,\n",
    "#                     \"prog\"=> prog,\n",
    "#                     \"data\"=> data,\n",
    "#                     \"X\"=> X,\n",
    "#                     \"params\"=> Dict(\n",
    "#                                    \"max_depth\"=> 3,\n",
    "#                                    \"max_n_estimators\"=> 3,\n",
    "#                                    \"min_sample_split\"=> 3,\n",
    "#                                    \"min_samples_leaf\"=> 3))))\n",
    "#println(\"--------------------------------------------------------------\")\n",
    "#include(\"resources/fast_jl/rf_cross_val.jl\")\n",
    "#\n",
    "#\n",
    "#rf_cross_val(Dict(\"dlugosc_okna\"=> dlugosc_okna,\n",
    "#                     \"prog\"=> prog,\n",
    "#                     \"data\"=> data,\n",
    "#                     \"X\"=> X,\n",
    "#                     \"params\"=> Dict(\n",
    "#                                    \"max_depth\"=> 3,\n",
    "#                                    \"max_n_estimators\"=> 3,\n",
    "#                                    \"min_sample_split\"=> 3,\n",
    "#                                    \"min_samples_leaf\"=> 3)))"
   ],
   "metadata": {
    "collapsed": false,
    "pycharm": {
     "name": "#%%julia\n"
    }
   }
  },
  {
   "cell_type": "code",
   "execution_count": 8,
   "outputs": [
    {
     "name": "stdout",
     "output_type": "stream",
     "text": [
      "           1         2\n",
      "2  -0.854588 -1.272979\n",
      "3  -0.687387 -0.854588\n",
      "4  -0.305483 -0.687387\n",
      "5  -0.435129 -0.305483\n",
      "6  -0.746711 -0.435129\n",
      "..       ...       ...\n",
      "85 -0.603918  0.508236\n",
      "86 -1.075125 -0.603918\n",
      "87 -0.677187 -1.075125\n",
      "88 -0.158617 -0.677187\n",
      "89 -0.058055 -0.158617\n",
      "\n",
      "[88 rows x 2 columns]\n"
     ]
    }
   ],
   "source": [
    "print(cart_ar.X)"
   ],
   "metadata": {
    "collapsed": false,
    "pycharm": {
     "name": "#%%\n"
    }
   }
  },
  {
   "cell_type": "code",
   "execution_count": 19,
   "outputs": [
    {
     "name": "stdout",
     "output_type": "stream",
     "text": [
      "\n"
     ]
    },
    {
     "name": "stderr",
     "output_type": "stream",
     "text": [
      "   Resolving package versions...\n",
      "  No Changes to `C:\\Users\\micuk\\.julia\\environments\\v1.7\\Project.toml`\n",
      "  No Changes to `C:\\Users\\micuk\\.julia\\environments\\v1.7\\Manifest.toml`\n",
      "[ Info: Julia version info\n",
      "[ Info: Julia executable: C:\\Users\\micuk\\AppData\\Local\\Programs\\Julia-1.7.2\\bin\\julia.exe\n",
      "[ Info: Trying to import PyCall...\n",
      "┌ Info: PyCall is already installed and compatible with Python executable.\n",
      "│ \n",
      "│ PyCall:\n",
      "│     python: c:\\users\\micuk\\pycharmprojects\\vecm\\scripts\\python.exe\n",
      "│     libpython: C:\\Users\\micuk\\AppData\\Local\\Programs\\Python\\Python39\\python39.dll\n",
      "│ Python:\n",
      "│     python: c:\\users\\micuk\\pycharmprojects\\finalna_praca_licencjacka\\scripts\\python.exe\n",
      "└     libpython: C:\\Users\\micuk\\AppData\\Local\\Programs\\Python\\Python39\\python39.dll\n"
     ]
    },
    {
     "name": "stdout",
     "output_type": "stream",
     "text": [
      "Julia Version 1.7.2\n",
      "Commit bf53498635 (2022-02-06 15:21 UTC)\n",
      "Platform Info:\n",
      "  OS: Windows (x86_64-w64-mingw32)\n",
      "      Microsoft Windows [Version 10.0.19044.1586]\n",
      "  CPU: Intel(R) Core(TM) i7-7700K CPU @ 4.20GHz: \n",
      "              speed         user         nice          sys         idle          irq\n",
      "       #1  4200 MHz   30345343            0     15100140    227858515      2886406  ticks\n",
      "       #2  4200 MHz   25178062            0      6142421    241983515       165718  ticks\n",
      "       #3  4200 MHz   37801718            0      9242687    226259593       189703  ticks\n",
      "       #4  4200 MHz   30375234            0      5513296    237415468       115812  ticks\n",
      "       #5  4200 MHz   41370828            0      8698000    223235031       177546  ticks\n",
      "       #6  4200 MHz   38393062            0      6541046    228369750       156703  ticks\n",
      "       #7  4200 MHz   42446437            0      8087328    222770093       177640  ticks\n",
      "       #8  4200 MHz   40276500            0      6850140    226177218       113468  ticks\n",
      "       \n",
      "  Memory: 15.958984375 GB (2487.47265625 MB free)\n",
      "  Uptime: 406885.0 sec\n",
      "  Load Avg:  0.0  0.0  0.0\n",
      "  WORD_SIZE: 64\n",
      "  LIBM: libopenlibm\n",
      "  LLVM: libLLVM-12.0.1 (ORCJIT, skylake)\n",
      "Environment:\n",
      "  CHOCOLATEYLASTPATHUPDATE = 132886613223205399\n",
      "  HOMEDRIVE = C:\n",
      "  HOMEPATH = \\Users\\micuk\n",
      "  JAVA_HOME = C:\\devsetup\\jdk-17.0.2\n",
      "  M2_HOME = C:\\Maven\n",
      "  MAVEN_HOME = C:\\Maven\n",
      "  PATH = C:\\Users\\micuk\\PycharmProjects\\finalna_praca_licencjacka\\Scripts;C:\\Python310\\Scripts\\;C:\\Python310\\;C:\\Windows\\system32;C:\\Windows;C:\\Windows\\System32\\Wbem;C:\\Windows\\System32\\WindowsPowerShell\\v1.0\\;C:\\Windows\\System32\\OpenSSH\\;C:\\Program Files\\NVIDIA Corporation\\NVIDIA NvDLISR;C:\\Program Files (x86)\\NVIDIA Corporation\\PhysX\\Common;C:\\Program Files\\Git\\cmd;C:\\Program Files\\nodejs\\;C:\\ProgramData\\chocolatey\\bin;C:\\Program Files\\dotnet\\;C:\\Program Files\\MySQL\\MySQL Shell 8.0\\bin\\;C:\\Users\\micuk\\AppData\\Local\\Microsoft\\WindowsApps;C:\\Program Files\\JetBrains\\PyCharm 2021.3.1\\bin;C:\\devsetup\\jdk-17.0.2;;C:\\Users\\micuk\\AppData\\Local\\Programs\\Microsoft VS Code\\bin;C:\\Program Files\\JetBrains\\IntelliJ IDEA Community Edition 2021.3.2\\bin;;C:\\Program Files\\JetBrains\\IntelliJ IDEA 2021.3.2\\bin;;C:\\Maven\\bin;C:\\Users\\micuk\\AppData\\Roaming\\npm;C:\\Users\\micuk\\AppData\\Local\\GitHubDesktop\\bin;C:\\Users\\micuk\\AppData\\Local\\Programs\\Julia-1.7.2\\bin\n",
      "  PATHEXT = .COM;.EXE;.BAT;.CMD;.VBS;.VBE;.JS;.JSE;.WSF;.WSH;.MSC;.PY;.PYW\n",
      "  PSMODULEPATH = C:\\Program Files\\WindowsPowerShell\\Modules;C:\\Windows\\system32\\WindowsPowerShell\\v1.0\\Modules\n",
      "  PYTHONPATH = C:\\Users\\micuk\\PycharmProjects\\finalna_praca_licencjacka;C:\\Users\\micuk\\PycharmProjects\\finalna_praca_licencjacka\\resources\n",
      "  TERM = xterm-color\n",
      "  _OLD_VIRTUAL_PATH = C:\\Python310\\Scripts\\;C:\\Python310\\;C:\\Windows\\system32;C:\\Windows;C:\\Windows\\System32\\Wbem;C:\\Windows\\System32\\WindowsPowerShell\\v1.0\\;C:\\Windows\\System32\\OpenSSH\\;C:\\Program Files\\NVIDIA Corporation\\NVIDIA NvDLISR;C:\\Program Files (x86)\\NVIDIA Corporation\\PhysX\\Common;C:\\Program Files\\Git\\cmd;C:\\Program Files\\nodejs\\;C:\\ProgramData\\chocolatey\\bin;C:\\Program Files\\dotnet\\;C:\\Program Files\\MySQL\\MySQL Shell 8.0\\bin\\;C:\\Users\\micuk\\AppData\\Local\\Microsoft\\WindowsApps;C:\\Program Files\\JetBrains\\PyCharm 2021.3.1\\bin;C:\\devsetup\\jdk-17.0.2;;C:\\Users\\micuk\\AppData\\Local\\Programs\\Microsoft VS Code\\bin;C:\\Program Files\\JetBrains\\IntelliJ IDEA Community Edition 2021.3.2\\bin;;C:\\Program Files\\JetBrains\\IntelliJ IDEA 2021.3.2\\bin;;C:\\Maven\\bin;C:\\Users\\micuk\\AppData\\Roaming\\npm;C:\\Users\\micuk\\AppData\\Local\\GitHubDesktop\\bin;C:\\Users\\micuk\\AppData\\Local\\Programs\\Julia-1.7.2\\bin\n",
      "SHAPE(88, 2)\n",
      "Dict{Any, Any}(\"max_depth\" => 3, \"max_n_estimators\" => 5, \"min_samples_leaf\" => 5, \"min_samples_split\" => 5)2, 1, 2, 2"
     ]
    },
    {
     "ename": "RuntimeError",
     "evalue": "<PyCall.jlwrap (in a Julia function called from Python)\nJULIA: MethodError: no method matching build_forest(::Vector{Float64}, ::Matrix{Float64}, ::Int64, ::Int64, ::Float64, ::Int64, ::Int64, ::Int64, ::Float64; n_trees=10)\nClosest candidates are:\n  build_forest(::AbstractVector{T}, ::AbstractMatrix{S}, ::Any, ::Any, ::Any, ::Any, ::Any, ::Any, ::Any; rng) where {S, T<:Float64} at C:\\Users\\micuk\\.julia\\packages\\DecisionTree\\iWCbW\\src\\regression\\main.jl:49 got unsupported keyword argument \"n_trees\"\n  build_forest(::AbstractVector{T}, ::AbstractMatrix{S}, ::Any, ::Any, ::Any, ::Any, ::Any, ::Any, ::Any; rng) where {S, T} at C:\\Users\\micuk\\.julia\\packages\\DecisionTree\\iWCbW\\src\\classification\\main.jl:190 got unsupported keyword argument \"n_trees\"\n  build_forest(::AbstractVector{T}, ::AbstractMatrix{S}, ::Any, ::Any, ::Any, ::Any, ::Any, ::Any) where {S, T<:Float64} at C:\\Users\\micuk\\.julia\\packages\\DecisionTree\\iWCbW\\src\\regression\\main.jl:49 got unsupported keyword argument \"n_trees\"\n  ...\nStacktrace:\n [1] kwerr(::NamedTuple{(:n_trees,), Tuple{Int64}}, ::Function, ::Vector{Float64}, ::Matrix{Float64}, ::Int64, ::Int64, ::Float64, ::Int64, ::Int64, ::Int64, ::Float64)\n   @ Base .\\error.jl:163\n [2] rf_cross_val(dict::Dict{Any, Any})\n   @ Main C:\\Users\\micuk\\PycharmProjects\\finalna_praca_licencjacka\\resources\\fast_jl\\rf_cross_val.jl:43\n [3] invokelatest(::Any, ::Any, ::Vararg{Any}; kwargs::Base.Pairs{Symbol, Union{}, Tuple{}, NamedTuple{(), Tuple{}}})\n   @ Base .\\essentials.jl:716\n [4] invokelatest(::Any, ::Any, ::Vararg{Any})\n   @ Base .\\essentials.jl:714\n [5] _pyjlwrap_call(f::Function, args_::Ptr{PyCall.PyObject_struct}, kw_::Ptr{PyCall.PyObject_struct})\n   @ PyCall C:\\Users\\micuk\\.julia\\packages\\PyCall\\7a7w0\\src\\callback.jl:28\n [6] pyjlwrap_call(self_::Ptr{PyCall.PyObject_struct}, args_::Ptr{PyCall.PyObject_struct}, kw_::Ptr{PyCall.PyObject_struct})\n   @ PyCall C:\\Users\\micuk\\.julia\\packages\\PyCall\\7a7w0\\src\\callback.jl:44>",
     "output_type": "error",
     "traceback": [
      "\u001B[1;31m---------------------------------------------------------------------------\u001B[0m",
      "\u001B[1;31mRuntimeError\u001B[0m                              Traceback (most recent call last)",
      "Input \u001B[1;32mIn [19]\u001B[0m, in \u001B[0;36m<cell line: 7>\u001B[1;34m()\u001B[0m\n\u001B[0;32m      4\u001B[0m Pkg\u001B[38;5;241m.\u001B[39madd(\u001B[38;5;124m\"\u001B[39m\u001B[38;5;124mDecisionTree\u001B[39m\u001B[38;5;124m\"\u001B[39m)\n\u001B[0;32m      5\u001B[0m Main\u001B[38;5;241m.\u001B[39musing(\u001B[38;5;124m\"\u001B[39m\u001B[38;5;124mDecisionTree\u001B[39m\u001B[38;5;124m\"\u001B[39m)\n\u001B[1;32m----> 7\u001B[0m opt \u001B[38;5;241m=\u001B[39m \u001B[43mcart_ar\u001B[49m\u001B[38;5;241;43m.\u001B[39;49m\u001B[43mcross_validation_rolling_window_julia\u001B[49m\u001B[43m(\u001B[49m\u001B[38;5;241;43m1\u001B[39;49m\u001B[38;5;241;43m/\u001B[39;49m\u001B[38;5;241;43m2\u001B[39;49m\u001B[43m,\u001B[49m\u001B[43m \u001B[49m\u001B[43m{\u001B[49m\n\u001B[0;32m      8\u001B[0m \u001B[43m    \u001B[49m\u001B[38;5;124;43m\"\u001B[39;49m\u001B[38;5;124;43mmax_depth\u001B[39;49m\u001B[38;5;124;43m\"\u001B[39;49m\u001B[43m:\u001B[49m\u001B[43m \u001B[49m\u001B[38;5;241;43m3\u001B[39;49m\u001B[43m,\u001B[49m\n\u001B[0;32m      9\u001B[0m \u001B[43m    \u001B[49m\u001B[38;5;124;43m\"\u001B[39;49m\u001B[38;5;124;43mmax_n_estimators\u001B[39;49m\u001B[38;5;124;43m\"\u001B[39;49m\u001B[43m:\u001B[49m\u001B[43m \u001B[49m\u001B[38;5;241;43m5\u001B[39;49m\u001B[43m,\u001B[49m\n\u001B[0;32m     10\u001B[0m \u001B[43m    \u001B[49m\u001B[38;5;124;43m\"\u001B[39;49m\u001B[38;5;124;43mmin_samples_split\u001B[39;49m\u001B[38;5;124;43m\"\u001B[39;49m\u001B[43m:\u001B[49m\u001B[43m \u001B[49m\u001B[38;5;241;43m5\u001B[39;49m\u001B[43m,\u001B[49m\n\u001B[0;32m     11\u001B[0m \u001B[43m    \u001B[49m\u001B[38;5;124;43m\"\u001B[39;49m\u001B[38;5;124;43mmin_samples_leaf\u001B[39;49m\u001B[38;5;124;43m\"\u001B[39;49m\u001B[43m:\u001B[49m\u001B[43m \u001B[49m\u001B[38;5;241;43m5\u001B[39;49m\n\u001B[0;32m     12\u001B[0m \u001B[43m}\u001B[49m\u001B[43m)\u001B[49m\n",
      "File \u001B[1;32m~\\PycharmProjects\\finalna_praca_licencjacka\\resources\\single_data\\RF_AR.py:134\u001B[0m, in \u001B[0;36mRF_AR.cross_validation_rolling_window_julia\u001B[1;34m(self, dlugosc_okna, params, verbose)\u001B[0m\n\u001B[0;32m    132\u001B[0m Main\u001B[38;5;241m.\u001B[39minclude(\u001B[38;5;124m'\u001B[39m\u001B[38;5;124mresources/fast_jl/rf_cross_val.jl\u001B[39m\u001B[38;5;124m'\u001B[39m)\n\u001B[0;32m    133\u001B[0m \u001B[38;5;66;03m# Main.include('RandomForest.jl')\u001B[39;00m\n\u001B[1;32m--> 134\u001B[0m fn \u001B[38;5;241m=\u001B[39m \u001B[43mMain\u001B[49m\u001B[38;5;241;43m.\u001B[39;49m\u001B[43mrf_cross_val\u001B[49m\u001B[43m(\u001B[49m\u001B[43mMain\u001B[49m\u001B[38;5;241;43m.\u001B[39;49m\u001B[43mdict\u001B[49m\u001B[43m)\u001B[49m\n\u001B[0;32m    135\u001B[0m \u001B[38;5;28;01mreturn\u001B[39;00m fn\n",
      "\u001B[1;31mRuntimeError\u001B[0m: <PyCall.jlwrap (in a Julia function called from Python)\nJULIA: MethodError: no method matching build_forest(::Vector{Float64}, ::Matrix{Float64}, ::Int64, ::Int64, ::Float64, ::Int64, ::Int64, ::Int64, ::Float64; n_trees=10)\nClosest candidates are:\n  build_forest(::AbstractVector{T}, ::AbstractMatrix{S}, ::Any, ::Any, ::Any, ::Any, ::Any, ::Any, ::Any; rng) where {S, T<:Float64} at C:\\Users\\micuk\\.julia\\packages\\DecisionTree\\iWCbW\\src\\regression\\main.jl:49 got unsupported keyword argument \"n_trees\"\n  build_forest(::AbstractVector{T}, ::AbstractMatrix{S}, ::Any, ::Any, ::Any, ::Any, ::Any, ::Any, ::Any; rng) where {S, T} at C:\\Users\\micuk\\.julia\\packages\\DecisionTree\\iWCbW\\src\\classification\\main.jl:190 got unsupported keyword argument \"n_trees\"\n  build_forest(::AbstractVector{T}, ::AbstractMatrix{S}, ::Any, ::Any, ::Any, ::Any, ::Any, ::Any) where {S, T<:Float64} at C:\\Users\\micuk\\.julia\\packages\\DecisionTree\\iWCbW\\src\\regression\\main.jl:49 got unsupported keyword argument \"n_trees\"\n  ...\nStacktrace:\n [1] kwerr(::NamedTuple{(:n_trees,), Tuple{Int64}}, ::Function, ::Vector{Float64}, ::Matrix{Float64}, ::Int64, ::Int64, ::Float64, ::Int64, ::Int64, ::Int64, ::Float64)\n   @ Base .\\error.jl:163\n [2] rf_cross_val(dict::Dict{Any, Any})\n   @ Main C:\\Users\\micuk\\PycharmProjects\\finalna_praca_licencjacka\\resources\\fast_jl\\rf_cross_val.jl:43\n [3] invokelatest(::Any, ::Any, ::Vararg{Any}; kwargs::Base.Pairs{Symbol, Union{}, Tuple{}, NamedTuple{(), Tuple{}}})\n   @ Base .\\essentials.jl:716\n [4] invokelatest(::Any, ::Any, ::Vararg{Any})\n   @ Base .\\essentials.jl:714\n [5] _pyjlwrap_call(f::Function, args_::Ptr{PyCall.PyObject_struct}, kw_::Ptr{PyCall.PyObject_struct})\n   @ PyCall C:\\Users\\micuk\\.julia\\packages\\PyCall\\7a7w0\\src\\callback.jl:28\n [6] pyjlwrap_call(self_::Ptr{PyCall.PyObject_struct}, args_::Ptr{PyCall.PyObject_struct}, kw_::Ptr{PyCall.PyObject_struct})\n   @ PyCall C:\\Users\\micuk\\.julia\\packages\\PyCall\\7a7w0\\src\\callback.jl:44>"
     ]
    }
   ],
   "source": [
    "from julia import Pkg\n",
    "from julia import Main\n",
    "\n",
    "Pkg.add(\"DecisionTree\")\n",
    "Main.using(\"DecisionTree\")\n",
    "\n",
    "opt = cart_ar.cross_validation_rolling_window_julia(1/2, {\n",
    "    \"max_depth\": 3,\n",
    "    \"max_n_estimators\": 5,\n",
    "    \"min_samples_split\": 5,\n",
    "    \"min_samples_leaf\": 5\n",
    "})"
   ],
   "metadata": {
    "collapsed": false,
    "pycharm": {
     "name": "#%%\n"
    }
   }
  },
  {
   "cell_type": "code",
   "execution_count": null,
   "outputs": [],
   "source": [
    "#opt = cart_ar.cross_validation_rolling_window_julia(1/2, {\n",
    "#    \"max_depth\": 2,\n",
    "#    \"max_n_estimators\": 20,\n",
    "#    \"min_sample_split\": 20,\n",
    "#    \"min_samples_leaf\": 20\n",
    "#})"
   ],
   "metadata": {
    "collapsed": false,
    "pycharm": {
     "name": "#%%\n"
    }
   }
  },
  {
   "cell_type": "code",
   "execution_count": null,
   "outputs": [],
   "source": [
    "cart_ar.fit(params_fit={\"max_depth\":opt[\"depth\"],\n",
    "                       \"max_n_estimators\":opt[\"n_estimators\"],\n",
    "                       \"min_samples_split\":opt[\"min_samples_split\"],\n",
    "                       \"min_samples_leaf\":opt[\"min_samples_leaf\"]})"
   ],
   "metadata": {
    "collapsed": false,
    "pycharm": {
     "name": "#%%\n"
    }
   }
  },
  {
   "cell_type": "code",
   "execution_count": null,
   "outputs": [],
   "source": [
    "plt.plot(cart_ar.forecast_raw())\n",
    "plt.plot(cart_ar.data_test.values, c='r')\n",
    "plt.grid()\n",
    "\n",
    "print(\"SUMA: \",sum(cart_ar.data_test.values * cart_ar.forecast_raw() > 0), \" / \", len(cart_ar.forecast_raw()))"
   ],
   "metadata": {
    "collapsed": false,
    "pycharm": {
     "name": "#%%\n"
    }
   }
  }
 ],
 "metadata": {
  "kernelspec": {
   "display_name": "Python 3",
   "language": "python",
   "name": "python3"
  },
  "language_info": {
   "codemirror_mode": {
    "name": "ipython",
    "version": 2
   },
   "file_extension": ".py",
   "mimetype": "text/x-python",
   "name": "python",
   "nbconvert_exporter": "python",
   "pygments_lexer": "ipython2",
   "version": "2.7.6"
  }
 },
 "nbformat": 4,
 "nbformat_minor": 0
}