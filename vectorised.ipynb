{
 "cells": [
  {
   "cell_type": "code",
   "execution_count": 5,
   "metadata": {
    "collapsed": true
   },
   "outputs": [],
   "source": [
    "import resources.Get_Vectorised_Data as Get_Vectorised_Data\n",
    "from resources.single_data.RF_AR import RF_AR\n",
    "from resources.vectorised_data.CART_ARX import CART_ARX\n",
    "import matplotlib.pyplot as plt\n",
    "import pandas as pd\n",
    "import numpy as np"
   ]
  },
  {
   "cell_type": "code",
   "execution_count": 2,
   "outputs": [
    {
     "name": "stdout",
     "output_type": "stream",
     "text": [
      "[*********************100%***********************]  2 of 2 completed\n",
      "make_diff()\n",
      "                ^GSPC       ^IXIC\n",
      "Date                             \n",
      "2021-09-21  -3.540039   32.500000\n",
      "2021-09-22  41.450195  150.449219\n",
      "2021-09-23  53.339844  155.390625\n",
      "2021-09-24   6.500000   -4.540039\n",
      "2021-09-27 -12.370117  -77.730469\n",
      "...               ...         ...\n",
      "2022-02-14 -16.970215   -0.230469\n",
      "2022-02-15  69.399902  348.839844\n",
      "2022-02-16   3.939941  -15.669922\n",
      "2022-02-17 -94.750000 -407.370117\n",
      "2022-02-18 -31.389648 -168.649414\n",
      "\n",
      "[106 rows x 2 columns]\n"
     ]
    }
   ],
   "source": [
    "szereg = Get_Vectorised_Data.Get_Vectorised_Data([\"^IXIC\", \"^GSPC\"], start=\"2021-09-20\", end='2022-02-20', interval=\"1d\").make_diff()\n",
    "#szereg = pd.read_csv(\"sim.csv\")['x'][:300]\n",
    "#getter.analiza_statystyczna_szeregu(szereg_pandas=szereg)\n",
    "\n",
    "print(szereg)"
   ],
   "metadata": {
    "collapsed": false,
    "pycharm": {
     "name": "#%%\n"
    }
   }
  },
  {
   "cell_type": "code",
   "execution_count": 29,
   "outputs": [],
   "source": [
    "cart_ar = CART_ARX(data=szereg, params={\"lags\": 0}, test_ratio=0.9)\n",
    "#opt = cart_ar.cross_validation_rolling_window(dlugosc_okna=1/5, max_depth=10)\n",
    "\n",
    "#cart_ar.fit(params_fit={\"max_depth\": opt})"
   ],
   "metadata": {
    "collapsed": false,
    "pycharm": {
     "name": "#%%\n"
    }
   }
  },
  {
   "cell_type": "code",
   "execution_count": null,
   "outputs": [],
   "source": [],
   "metadata": {
    "collapsed": false,
    "pycharm": {
     "name": "#%%\n"
    }
   }
  }
 ],
 "metadata": {
  "kernelspec": {
   "display_name": "Python 3",
   "language": "python",
   "name": "python3"
  },
  "language_info": {
   "codemirror_mode": {
    "name": "ipython",
    "version": 2
   },
   "file_extension": ".py",
   "mimetype": "text/x-python",
   "name": "python",
   "nbconvert_exporter": "python",
   "pygments_lexer": "ipython2",
   "version": "2.7.6"
  }
 },
 "nbformat": 4,
 "nbformat_minor": 0
}