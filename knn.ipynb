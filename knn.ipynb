{
 "cells": [
  {
   "cell_type": "code",
   "execution_count": 73,
   "metadata": {
    "collapsed": true
   },
   "outputs": [
    {
     "name": "stdout",
     "output_type": "stream",
     "text": [
      "The julia.magic extension is already loaded. To reload it, use:\n",
      "  %reload_ext julia.magic\n"
     ]
    }
   ],
   "source": [
    "import resources.Get_Data as Get_Data\n",
    "from resources.single_data.KNN_AR import KNN_AR\n",
    "import matplotlib.pyplot as plt\n",
    "import pandas as pd\n",
    "import julia\n",
    "%load_ext julia.magic"
   ]
  },
  {
   "cell_type": "code",
   "execution_count": 74,
   "outputs": [],
   "source": [
    "getter = Get_Data.Get_Data(\"^IXIC\", \"2022-02-15\", \"1h\")#.make_norm_diff()\n",
    "#print(getter)\n",
    "#szereg = Get_Data.Get_Data(\"^IXIC\", start=\"2021-09-20\", end='2022-02-20', interval=\"1d\").make_diff()\n",
    "szereg = pd.read_csv(\"sim.csv\")['x'][:100]\n",
    "#print(szereg)\n",
    "#getter.analiza_statystyczna_szeregu(szereg_pandas=szereg)\n",
    "\n",
    "cart_ar = KNN_AR(data=szereg, params={\"lags\": 2,}, test_ratio=0.9)"
   ],
   "metadata": {
    "collapsed": false,
    "pycharm": {
     "name": "#%%\n"
    }
   }
  },
  {
   "cell_type": "code",
   "execution_count": 77,
   "outputs": [
    {
     "name": "stdout",
     "output_type": "stream",
     "text": [
      "cross_validation_rolling_window\n",
      "{'k': '7', 'weights': 'distance', 'p': '1'}\n",
      "{'k_max': '7', 'weights': 'distance', 'p': '1'}\n",
      "           1\n",
      "1  -1.272979\n",
      "2  -0.854588\n",
      "3  -0.687387\n",
      "4  -0.305483\n",
      "5  -0.435129\n",
      "..       ...\n",
      "85 -0.603918\n",
      "86 -1.075125\n",
      "87 -0.677187\n",
      "88 -0.158617\n",
      "89 -0.058055\n",
      "\n",
      "[89 rows x 1 columns] 0    -1.272979\n",
      "1    -0.854588\n",
      "2    -0.687387\n",
      "3    -0.305483\n",
      "4    -0.435129\n",
      "        ...   \n",
      "84   -0.603918\n",
      "85   -1.075125\n",
      "86   -0.677187\n",
      "87   -0.158617\n",
      "88   -0.058055\n",
      "Name: x, Length: 89, dtype: float64\n",
      "fit\n"
     ]
    }
   ],
   "source": [
    "cart_ar = KNN_AR(data=szereg, params={\"lags\": 1}, test_ratio=0.9)\n",
    "\n",
    "opt = cart_ar.cross_validation_rolling_window(dlugosc_okna=1/2, params={\"k_max\":40,\n",
    "                                                          \"weights\":['uniform', 'distance'],\n",
    "                                                          \"p\":[1, 2]})\n",
    "print({\"k\": opt[\"k_max\"],\n",
    "       \"weights\": opt[\"weights\"],\n",
    "       \"p\": opt[\"p\"]})\n",
    "print(opt)\n",
    "cart_ar.fit(params_fit={\"k\": opt[\"k_max\"],\n",
    "                        \"weights\": opt[\"weights\"],\n",
    "                        \"p\": opt[\"p\"]})"
   ],
   "metadata": {
    "collapsed": false,
    "pycharm": {
     "name": "#%%\n"
    }
   }
  },
  {
   "cell_type": "code",
   "execution_count": 78,
   "outputs": [],
   "source": [
    "#using PyCall\n",
    "#dlugosc_okna = 1/2\n",
    "#X = py\"cart_ar.X.values\"\n",
    "#data = py\"cart_ar.data.values\"\n",
    "#prog = convert(Int64, round(dlugosc_okna * length(X)))\n",
    "#\n",
    "#X = reshape(X, size(X))\n",
    "#data = reshape(data, size(data))\n",
    "#X = reshape(X, size(X))\n",
    "#\n",
    "#println(typeof(X))\n",
    "#println(typeof(data))\n",
    "#println(typeof(prog))\n",
    "#println(typeof(dlugosc_okna))\n",
    "#println(typeof(Dict(\"dlugosc_okna\"=> dlugosc_okna,\n",
    "#                     \"prog\"=> prog,\n",
    "#                     \"data\"=> data,\n",
    "#                     \"X\"=> X,\n",
    "#                     \"params\"=> Dict(\n",
    "#                                    \"max_depth\"=> 3,\n",
    "#                                    \"max_n_estimators\"=> 3,\n",
    "#                                    \"min_sample_split\"=> 3,\n",
    "#                                    \"min_samples_leaf\"=> 3))))\n",
    "#println(\"--------------------------------------------------------------\")\n",
    "#include(\"resources/fast_jl/rf_cross_val.jl\")\n",
    "#\n",
    "#\n",
    "#rf_cross_val(Dict(\"dlugosc_okna\"=> dlugosc_okna,\n",
    "#                     \"prog\"=> prog,\n",
    "#                     \"data\"=> data,\n",
    "#                     \"X\"=> X,\n",
    "#                     \"params\"=> Dict(\n",
    "#                                    \"max_depth\"=> 3,\n",
    "#                                    \"max_n_estimators\"=> 3,\n",
    "#                                    \"min_sample_split\"=> 3,\n",
    "#                                    \"min_samples_leaf\"=> 3)))"
   ],
   "metadata": {
    "collapsed": false,
    "pycharm": {
     "name": "#%%julia\n"
    }
   }
  },
  {
   "cell_type": "code",
   "execution_count": 79,
   "outputs": [
    {
     "name": "stdout",
     "output_type": "stream",
     "text": [
      "           1\n",
      "1  -1.272979\n",
      "2  -0.854588\n",
      "3  -0.687387\n",
      "4  -0.305483\n",
      "5  -0.435129\n",
      "..       ...\n",
      "85 -0.603918\n",
      "86 -1.075125\n",
      "87 -0.677187\n",
      "88 -0.158617\n",
      "89 -0.058055\n",
      "\n",
      "[89 rows x 1 columns]\n"
     ]
    }
   ],
   "source": [
    "print(cart_ar.X)"
   ],
   "metadata": {
    "collapsed": false,
    "pycharm": {
     "name": "#%%\n"
    }
   }
  },
  {
   "cell_type": "code",
   "execution_count": 80,
   "outputs": [],
   "source": [
    "#from julia import Pkg\n",
    "#from julia import Main\n",
    "#\n",
    "#Pkg.add(\"DecisionTree\")\n",
    "#Main.using(\"DecisionTree\")\n",
    "#\n",
    "#opt = cart_ar.cross_validation_rolling_window_julia(1/3, {\n",
    "#    \"max_depth\": 3,\n",
    "#    \"min_samples_split\": 5,\n",
    "#    \"min_samples_leaf\": 5\n",
    "#})"
   ],
   "metadata": {
    "collapsed": false,
    "pycharm": {
     "name": "#%%\n"
    }
   }
  },
  {
   "cell_type": "code",
   "execution_count": 81,
   "outputs": [],
   "source": [
    "#opt = cart_ar.cross_validation_rolling_window_julia(1/2, {\n",
    "#    \"max_depth\": 2,\n",
    "#    \"max_n_estimators\": 20,\n",
    "#    \"min_sample_split\": 20,\n",
    "#    \"min_samples_leaf\": 20\n",
    "#})"
   ],
   "metadata": {
    "collapsed": false,
    "pycharm": {
     "name": "#%%\n"
    }
   }
  },
  {
   "cell_type": "code",
   "execution_count": 82,
   "outputs": [
    {
     "name": "stdout",
     "output_type": "stream",
     "text": [
      "           1\n",
      "1  -1.272979\n",
      "2  -0.854588\n",
      "3  -0.687387\n",
      "4  -0.305483\n",
      "5  -0.435129\n",
      "..       ...\n",
      "85 -0.603918\n",
      "86 -1.075125\n",
      "87 -0.677187\n",
      "88 -0.158617\n",
      "89 -0.058055\n",
      "\n",
      "[89 rows x 1 columns] 0    -1.272979\n",
      "1    -0.854588\n",
      "2    -0.687387\n",
      "3    -0.305483\n",
      "4    -0.435129\n",
      "        ...   \n",
      "84   -0.603918\n",
      "85   -1.075125\n",
      "86   -0.677187\n",
      "87   -0.158617\n",
      "88   -0.058055\n",
      "Name: x, Length: 89, dtype: float64\n",
      "fit\n"
     ]
    }
   ],
   "source": [
    "cart_ar.fit(params_fit={\"k\":opt[\"k_max\"],\n",
    "                       \"p\":int(opt[\"p\"]),\n",
    "                       \"weights\":opt[\"weights\"]})"
   ],
   "metadata": {
    "collapsed": false,
    "pycharm": {
     "name": "#%%\n"
    }
   }
  },
  {
   "cell_type": "code",
   "execution_count": 85,
   "outputs": [
    {
     "name": "stdout",
     "output_type": "stream",
     "text": [
      "forecast_raw\n",
      "forecast_raw\n",
      "forecast_raw\n",
      "SUMA:  8  /  10\n"
     ]
    },
    {
     "data": {
      "text/plain": "<Figure size 432x288 with 1 Axes>",
      "image/png": "[encoded data removed]"
     },
     "metadata": {
      "needs_background": "light"
     },
     "output_type": "display_data"
    }
   ],
   "source": [
    "import numpy as np\n",
    "plt.plot(np.cumsum(cart_ar.forecast_raw()), c='r')\n",
    "plt.plot(np.cumsum(cart_ar.data_test.values))\n",
    "plt.axhline(0)\n",
    "plt.grid()\n",
    "\n",
    "print(\"SUMA: \",sum(cart_ar.data_test.values * cart_ar.forecast_raw() > 0), \" / \", len(cart_ar.forecast_raw()))"
   ],
   "metadata": {
    "collapsed": false,
    "pycharm": {
     "name": "#%%\n"
    }
   }
  }
 ],
 "metadata": {
  "kernelspec": {
   "display_name": "Python 3",
   "language": "python",
   "name": "python3"
  },
  "language_info": {
   "codemirror_mode": {
    "name": "ipython",
    "version": 2
   },
   "file_extension": ".py",
   "mimetype": "text/x-python",
   "name": "python",
   "nbconvert_exporter": "python",
   "pygments_lexer": "ipython2",
   "version": "2.7.6"
  }
 },
 "nbformat": 4,
 "nbformat_minor": 0
}